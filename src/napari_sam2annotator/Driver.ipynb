{
 "cells": [
  {
   "cell_type": "code",
   "execution_count": 1,
   "id": "f5e03e99",
   "metadata": {},
   "outputs": [],
   "source": [
    "import napari\n",
    "import skimage as ski\n",
    "import os\n",
    "import numpy as np\n",
    "import torch\n",
    "import matplotlib.pyplot as plt\n",
    "from PIL import Image\n",
    "import glob\n",
    "from _sam2_wrapper import sam2_wrapper\n",
    "\n",
    "%load_ext autoreload\n",
    "%autoreload 2"
   ]
  },
  {
   "cell_type": "code",
   "execution_count": 2,
   "id": "4f5e096f",
   "metadata": {},
   "outputs": [],
   "source": [
    "sam = sam2_wrapper()"
   ]
  },
  {
   "cell_type": "code",
   "execution_count": 3,
   "id": "7e781bdd",
   "metadata": {},
   "outputs": [],
   "source": [
    "#img = np.array([ski.io.imread(f) for f in glob.glob('U:/smc/public/SMC/sam2/datasets/cnidocyte/*.jpg')])\n",
    "img = ski.io.imread('U:/smc/public/SMC/sam2/plugin/data/4x.tif')"
   ]
  },
  {
   "cell_type": "code",
   "execution_count": 4,
   "id": "847056ff",
   "metadata": {},
   "outputs": [],
   "source": [
    "ds_img = ski.transform.downscale_local_mean(img, (1, 1, 1, 1), cval=0)"
   ]
  },
  {
   "cell_type": "code",
   "execution_count": 5,
   "id": "e0a3c014",
   "metadata": {},
   "outputs": [
    {
     "data": {
      "text/plain": [
       "(112, 5, 512, 512)"
      ]
     },
     "execution_count": 5,
     "metadata": {},
     "output_type": "execute_result"
    }
   ],
   "source": [
    "ds_img.shape"
   ]
  },
  {
   "cell_type": "code",
   "execution_count": 6,
   "id": "eb8addf2",
   "metadata": {},
   "outputs": [],
   "source": [
    "viewer = napari.Viewer()"
   ]
  },
  {
   "cell_type": "code",
   "execution_count": 7,
   "id": "4138326f",
   "metadata": {},
   "outputs": [
    {
     "data": {
      "text/plain": [
       "[<Image layer 'Image' at 0x1cd83d538f0>,\n",
       " <Image layer 'Image [1]' at 0x1cd83e10950>,\n",
       " <Image layer 'Image [2]' at 0x1cd83e120c0>,\n",
       " <Image layer 'Image [3]' at 0x1cd83f375f0>,\n",
       " <Image layer 'Image [4]' at 0x1cd83f609e0>]"
      ]
     },
     "execution_count": 7,
     "metadata": {},
     "output_type": "execute_result"
    }
   ],
   "source": [
    "viewer.add_image(img, channel_axis=1, visible=[False, True, True, True, True])"
   ]
  },
  {
   "cell_type": "code",
   "execution_count": 8,
   "id": "890e4c6d",
   "metadata": {},
   "outputs": [
    {
     "name": "stderr",
     "output_type": "stream",
     "text": [
      "frame loading (JPEG): 100%|██████████| 112/112 [00:03<00:00, 31.54it/s]\n",
      "D:\\segment-anything-2\\sam2\\modeling\\backbones\\hieradet.py:68: UserWarning: 1Torch was not compiled with flash attention. (Triggered internally at C:\\actions-runner\\_work\\pytorch\\pytorch\\builder\\windows\\pytorch\\aten\\src\\ATen\\native\\transformers\\cuda\\sdp_utils.cpp:555.)\n",
      "  x = F.scaled_dot_product_attention(\n"
     ]
    }
   ],
   "source": [
    "img = viewer.layers.selection.active.data\n",
    "sam.set_image(img)"
   ]
  },
  {
   "cell_type": "code",
   "execution_count": 10,
   "id": "39dc6acc",
   "metadata": {},
   "outputs": [
    {
     "data": {
      "text/plain": [
       "'Image [1]'"
      ]
     },
     "execution_count": 10,
     "metadata": {},
     "output_type": "execute_result"
    }
   ],
   "source": [
    "viewer.layers.selection.active.name"
   ]
  },
  {
   "cell_type": "code",
   "execution_count": 13,
   "id": "0c76d354",
   "metadata": {},
   "outputs": [],
   "source": [
    "cur_name = viewer.layers.selection.active.name\n",
    "cur_idx = -1\n",
    "for id, layer in enumerate(viewer.layers):\n",
    "    if layer.name == cur_name:\n",
    "        cur_idx = id\n",
    "        break"
   ]
  },
  {
   "cell_type": "code",
   "execution_count": 15,
   "id": "13176c31",
   "metadata": {},
   "outputs": [
    {
     "data": {
      "text/plain": [
       "<Shapes layer 'Box' at 0x1cd8a2f7c80>"
      ]
     },
     "execution_count": 15,
     "metadata": {},
     "output_type": "execute_result"
    }
   ],
   "source": [
    "dummy_shape = np.array([[0,0,0], [0,0,1], [0, 1, 1], [0,1,0]])\n",
    "viewer.add_shapes([dummy_shape], ndim=3, name='Box')"
   ]
  },
  {
   "cell_type": "code",
   "execution_count": 20,
   "id": "6fffc0f0",
   "metadata": {},
   "outputs": [],
   "source": [
    "viewer.layers['Box'].data = dummy_shape"
   ]
  },
  {
   "cell_type": "code",
   "execution_count": 26,
   "id": "aa4091a5",
   "metadata": {},
   "outputs": [
    {
     "data": {
      "text/plain": [
       "(55, 255, 255)"
      ]
     },
     "execution_count": 26,
     "metadata": {},
     "output_type": "execute_result"
    }
   ],
   "source": [
    "viewer.dims.current_step"
   ]
  },
  {
   "cell_type": "code",
   "execution_count": 22,
   "id": "f5aad3f4",
   "metadata": {},
   "outputs": [
    {
     "data": {
      "text/plain": [
       "[array([[0., 0., 0.],\n",
       "        [0., 0., 1.],\n",
       "        [0., 1., 1.],\n",
       "        [0., 1., 0.]])]"
      ]
     },
     "execution_count": 22,
     "metadata": {},
     "output_type": "execute_result"
    }
   ],
   "source": [
    "viewer.layers['Box'].data"
   ]
  },
  {
   "cell_type": "code",
   "execution_count": 16,
   "id": "f71c4592",
   "metadata": {},
   "outputs": [],
   "source": [
    "viewer.layers.selection.active"
   ]
  },
  {
   "cell_type": "code",
   "execution_count": null,
   "id": "4f75ffeb",
   "metadata": {},
   "outputs": [],
   "source": []
  },
  {
   "cell_type": "code",
   "execution_count": 20,
   "id": "788df862",
   "metadata": {},
   "outputs": [
    {
     "ename": "KeyError",
     "evalue": "\"'Shapes' is not in list\"",
     "output_type": "error",
     "traceback": [
      "\u001b[1;31m---------------------------------------------------------------------------\u001b[0m",
      "\u001b[1;31mValueError\u001b[0m                                Traceback (most recent call last)",
      "File \u001b[1;32mc:\\Users\\smc\\AppData\\Local\\miniforge3\\envs\\sam2\\Lib\\site-packages\\napari\\utils\\events\\containers\\_typed.py:144\u001b[0m, in \u001b[0;36mTypedMutableSequence.__getitem__\u001b[1;34m(self, key)\u001b[0m\n\u001b[0;32m    143\u001b[0m \u001b[38;5;28;01mtry\u001b[39;00m:\n\u001b[1;32m--> 144\u001b[0m     \u001b[38;5;28;01mreturn\u001b[39;00m \u001b[38;5;28mself\u001b[39m\u001b[38;5;241m.\u001b[39m\u001b[38;5;21m__getitem__\u001b[39m(\u001b[38;5;28;43mself\u001b[39;49m\u001b[38;5;241;43m.\u001b[39;49m\u001b[43mindex\u001b[49m\u001b[43m(\u001b[49m\u001b[43mkey\u001b[49m\u001b[43m)\u001b[49m)\n\u001b[0;32m    145\u001b[0m \u001b[38;5;28;01mexcept\u001b[39;00m \u001b[38;5;167;01mValueError\u001b[39;00m \u001b[38;5;28;01mas\u001b[39;00m e:\n",
      "File \u001b[1;32mc:\\Users\\smc\\AppData\\Local\\miniforge3\\envs\\sam2\\Lib\\site-packages\\napari\\utils\\events\\containers\\_typed.py:236\u001b[0m, in \u001b[0;36mTypedMutableSequence.index\u001b[1;34m(self, value, start, stop)\u001b[0m\n\u001b[0;32m    234\u001b[0m         \u001b[38;5;28;01mreturn\u001b[39;00m i\n\u001b[1;32m--> 236\u001b[0m \u001b[38;5;28;01mraise\u001b[39;00m \u001b[38;5;167;01mValueError\u001b[39;00m(\n\u001b[0;32m    237\u001b[0m     trans\u001b[38;5;241m.\u001b[39m_(\n\u001b[0;32m    238\u001b[0m         \u001b[38;5;124m'\u001b[39m\u001b[38;5;132;01m{value!r}\u001b[39;00m\u001b[38;5;124m is not in list\u001b[39m\u001b[38;5;124m'\u001b[39m,\n\u001b[0;32m    239\u001b[0m         deferred\u001b[38;5;241m=\u001b[39m\u001b[38;5;28;01mTrue\u001b[39;00m,\n\u001b[0;32m    240\u001b[0m         value\u001b[38;5;241m=\u001b[39mvalue,\n\u001b[0;32m    241\u001b[0m     )\n\u001b[0;32m    242\u001b[0m )\n",
      "\u001b[1;31mValueError\u001b[0m: 'Shapes' is not in list",
      "\nThe above exception was the direct cause of the following exception:\n",
      "\u001b[1;31mKeyError\u001b[0m                                  Traceback (most recent call last)",
      "Cell \u001b[1;32mIn[20], line 1\u001b[0m\n\u001b[1;32m----> 1\u001b[0m \u001b[38;5;28;01mif\u001b[39;00m \u001b[43mviewer\u001b[49m\u001b[38;5;241;43m.\u001b[39;49m\u001b[43mlayers\u001b[49m\u001b[43m[\u001b[49m\u001b[38;5;124;43m'\u001b[39;49m\u001b[38;5;124;43mShapes\u001b[39;49m\u001b[38;5;124;43m'\u001b[39;49m\u001b[43m]\u001b[49m \u001b[38;5;129;01mis\u001b[39;00m \u001b[38;5;129;01mnot\u001b[39;00m \u001b[38;5;28;01mNone\u001b[39;00m:\n\u001b[0;32m      2\u001b[0m     shapes \u001b[38;5;241m=\u001b[39m viewer\u001b[38;5;241m.\u001b[39mlayers[\u001b[38;5;124m'\u001b[39m\u001b[38;5;124mShapes\u001b[39m\u001b[38;5;124m'\u001b[39m]\u001b[38;5;241m.\u001b[39mdata\n\u001b[0;32m      3\u001b[0m \u001b[38;5;66;03m#mask = sam.infer_from_box_single_object(shapes)\u001b[39;00m\n",
      "File \u001b[1;32mc:\\Users\\smc\\AppData\\Local\\miniforge3\\envs\\sam2\\Lib\\site-packages\\napari\\components\\layerlist.py:170\u001b[0m, in \u001b[0;36mLayerList.__getitem__\u001b[1;34m(self, item)\u001b[0m\n\u001b[0;32m    169\u001b[0m \u001b[38;5;28;01mdef\u001b[39;00m \u001b[38;5;21m__getitem__\u001b[39m(\u001b[38;5;28mself\u001b[39m, item):\n\u001b[1;32m--> 170\u001b[0m     \u001b[38;5;28;01mreturn\u001b[39;00m \u001b[38;5;28;43msuper\u001b[39;49m\u001b[43m(\u001b[49m\u001b[43m)\u001b[49m\u001b[38;5;241;43m.\u001b[39;49m\u001b[38;5;21;43m__getitem__\u001b[39;49m\u001b[43m(\u001b[49m\u001b[43mitem\u001b[49m\u001b[43m)\u001b[49m\n",
      "File \u001b[1;32mc:\\Users\\smc\\AppData\\Local\\miniforge3\\envs\\sam2\\Lib\\site-packages\\napari\\utils\\events\\containers\\_typed.py:146\u001b[0m, in \u001b[0;36mTypedMutableSequence.__getitem__\u001b[1;34m(self, key)\u001b[0m\n\u001b[0;32m    144\u001b[0m         \u001b[38;5;28;01mreturn\u001b[39;00m \u001b[38;5;28mself\u001b[39m\u001b[38;5;241m.\u001b[39m\u001b[38;5;21m__getitem__\u001b[39m(\u001b[38;5;28mself\u001b[39m\u001b[38;5;241m.\u001b[39mindex(key))\n\u001b[0;32m    145\u001b[0m     \u001b[38;5;28;01mexcept\u001b[39;00m \u001b[38;5;167;01mValueError\u001b[39;00m \u001b[38;5;28;01mas\u001b[39;00m e:\n\u001b[1;32m--> 146\u001b[0m         \u001b[38;5;28;01mraise\u001b[39;00m \u001b[38;5;167;01mKeyError\u001b[39;00m(\u001b[38;5;28mstr\u001b[39m(e)) \u001b[38;5;28;01mfrom\u001b[39;00m \u001b[38;5;21;01me\u001b[39;00m\n\u001b[0;32m    148\u001b[0m result \u001b[38;5;241m=\u001b[39m \u001b[38;5;28mself\u001b[39m\u001b[38;5;241m.\u001b[39m_list[key]\n\u001b[0;32m    149\u001b[0m \u001b[38;5;28;01mreturn\u001b[39;00m \u001b[38;5;28mself\u001b[39m\u001b[38;5;241m.\u001b[39m__newlike__(result) \u001b[38;5;28;01mif\u001b[39;00m \u001b[38;5;28misinstance\u001b[39m(result, \u001b[38;5;28mlist\u001b[39m) \u001b[38;5;28;01melse\u001b[39;00m result\n",
      "\u001b[1;31mKeyError\u001b[0m: \"'Shapes' is not in list\""
     ]
    }
   ],
   "source": [
    "if viewer.layers['Shapes'] is not None:\n",
    "    shapes = viewer.layers['Shapes'].data\n",
    "#mask = sam.infer_from_box_single_object(shapes)\n",
    "mask = sam.infer_from_box(shapes, do_reset=True)\n",
    "viewer.add_labels(mask.astype(int)*3)"
   ]
  },
  {
   "cell_type": "code",
   "execution_count": 34,
   "id": "252d03f4",
   "metadata": {},
   "outputs": [
    {
     "name": "stderr",
     "output_type": "stream",
     "text": [
      "D:\\segment-anything-2\\sam2\\sam2_video_predictor.py:873: UserWarning: cannot import name '_C' from 'sam2' (D:\\segment-anything-2\\sam2\\__init__.py)\n",
      "\n",
      "Skipping the post-processing step due to the error above. You can still use SAM 2 and it's OK to ignore the error above, although some post-processing functionality may be limited (which doesn't affect the results in most cases; see https://github.com/facebookresearch/segment-anything-2/blob/main/INSTALL.md).\n",
      "  pred_masks_gpu = fill_holes_in_mask_scores(\n",
      "propagate in video: 100%|██████████| 98/98 [00:04<00:00, 20.14it/s]\n",
      "propagate in video: 100%|██████████| 15/15 [00:00<00:00, 17.30it/s]\n"
     ]
    },
    {
     "data": {
      "text/plain": [
       "<Labels layer 'Labels [3]' at 0x1d81a7e1220>"
      ]
     },
     "execution_count": 34,
     "metadata": {},
     "output_type": "execute_result"
    }
   ],
   "source": [
    "if viewer.layers['Points'] is not None:\n",
    "    good_points = viewer.layers['Points'].data\n",
    "    bad_points = viewer.layers['Points [1]'].data\n",
    "mask = sam.infer_from_points(good_points, bad_points, do_reset=False)\n",
    "viewer.add_labels(mask.astype(int)*3)"
   ]
  },
  {
   "cell_type": "code",
   "execution_count": null,
   "id": "aa558600",
   "metadata": {},
   "outputs": [
    {
     "name": "stderr",
     "output_type": "stream",
     "text": [
      "D:\\segment-anything-2\\sam2\\sam2_video_predictor.py:873: UserWarning: cannot import name '_C' from 'sam2' (D:\\segment-anything-2\\sam2\\__init__.py)\n",
      "\n",
      "Skipping the post-processing step due to the error above. You can still use SAM 2 and it's OK to ignore the error above, although some post-processing functionality may be limited (which doesn't affect the results in most cases; see https://github.com/facebookresearch/segment-anything-2/blob/main/INSTALL.md).\n",
      "  pred_masks_gpu = fill_holes_in_mask_scores(\n",
      "propagate in video: 100%|██████████| 20/20 [00:00<00:00, 22.49it/s]\n",
      "propagate in video: 100%|██████████| 19/19 [00:00<00:00, 23.26it/s]\n"
     ]
    }
   ],
   "source": []
  },
  {
   "cell_type": "code",
   "execution_count": null,
   "id": "4f50ee49",
   "metadata": {},
   "outputs": [
    {
     "data": {
      "text/plain": [
       "<Labels layer 'Labels [3]' at 0x1c1d0b1e900>"
      ]
     },
     "execution_count": 38,
     "metadata": {},
     "output_type": "execute_result"
    }
   ],
   "source": []
  },
  {
   "cell_type": "code",
   "execution_count": null,
   "id": "cef4085c",
   "metadata": {},
   "outputs": [],
   "source": []
  }
 ],
 "metadata": {
  "kernelspec": {
   "display_name": "sam2",
   "language": "python",
   "name": "python3"
  },
  "language_info": {
   "codemirror_mode": {
    "name": "ipython",
    "version": 3
   },
   "file_extension": ".py",
   "mimetype": "text/x-python",
   "name": "python",
   "nbconvert_exporter": "python",
   "pygments_lexer": "ipython3",
   "version": "3.12.6"
  }
 },
 "nbformat": 4,
 "nbformat_minor": 5
}
