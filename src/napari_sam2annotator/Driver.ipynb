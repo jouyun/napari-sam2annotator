{
 "cells": [
  {
   "cell_type": "code",
   "execution_count": 1,
   "id": "f5e03e99",
   "metadata": {},
   "outputs": [],
   "source": [
    "import napari\n",
    "import skimage as ski\n",
    "import os\n",
    "import numpy as np\n",
    "import torch\n",
    "import matplotlib.pyplot as plt\n",
    "from PIL import Image\n",
    "import glob\n",
    "from _sam2_wrapper import sam2_wrapper\n",
    "\n",
    "%load_ext autoreload\n",
    "%autoreload 2"
   ]
  },
  {
   "cell_type": "code",
   "execution_count": 2,
   "id": "4f5e096f",
   "metadata": {},
   "outputs": [],
   "source": [
    "sam = sam2_wrapper()"
   ]
  },
  {
   "cell_type": "code",
   "execution_count": 3,
   "id": "7e781bdd",
   "metadata": {},
   "outputs": [],
   "source": [
    "#img = np.array([ski.io.imread(f) for f in glob.glob('U:/smc/public/SMC/sam2/datasets/cnidocyte/*.jpg')])\n",
    "img = ski.io.imread('U:/smc/public/SMC/sam2/plugin/data/4x.tif')"
   ]
  },
  {
   "cell_type": "code",
   "execution_count": 4,
   "id": "847056ff",
   "metadata": {},
   "outputs": [],
   "source": [
    "ds_img = ski.transform.downscale_local_mean(img, (1, 1, 1, 1), cval=0)"
   ]
  },
  {
   "cell_type": "code",
   "execution_count": 5,
   "id": "e0a3c014",
   "metadata": {},
   "outputs": [
    {
     "data": {
      "text/plain": [
       "(112, 5, 512, 512)"
      ]
     },
     "execution_count": 5,
     "metadata": {},
     "output_type": "execute_result"
    }
   ],
   "source": [
    "ds_img.shape"
   ]
  },
  {
   "cell_type": "code",
   "execution_count": 6,
   "id": "eb8addf2",
   "metadata": {},
   "outputs": [],
   "source": [
    "viewer = napari.Viewer()"
   ]
  },
  {
   "cell_type": "code",
   "execution_count": 7,
   "id": "4138326f",
   "metadata": {},
   "outputs": [
    {
     "data": {
      "text/plain": [
       "[<Image layer 'Image' at 0x22e13daeb10>,\n",
       " <Image layer 'Image [1]' at 0x22e847c59a0>,\n",
       " <Image layer 'Image [2]' at 0x22e848d4920>,\n",
       " <Image layer 'Image [3]' at 0x22e848fa990>,\n",
       " <Image layer 'Image [4]' at 0x22e13dcdb80>]"
      ]
     },
     "execution_count": 7,
     "metadata": {},
     "output_type": "execute_result"
    }
   ],
   "source": [
    "viewer.add_image(img, channel_axis=1, visible=[False, True, True, True, True])"
   ]
  },
  {
   "cell_type": "code",
   "execution_count": 8,
   "id": "890e4c6d",
   "metadata": {},
   "outputs": [
    {
     "name": "stderr",
     "output_type": "stream",
     "text": [
      "frame loading (JPEG): 100%|██████████| 112/112 [00:03<00:00, 31.81it/s]\n",
      "D:\\segment-anything-2\\sam2\\modeling\\backbones\\hieradet.py:68: UserWarning: 1Torch was not compiled with flash attention. (Triggered internally at C:\\actions-runner\\_work\\pytorch\\pytorch\\builder\\windows\\pytorch\\aten\\src\\ATen\\native\\transformers\\cuda\\sdp_utils.cpp:555.)\n",
      "  x = F.scaled_dot_product_attention(\n"
     ]
    }
   ],
   "source": [
    "img = viewer.layers.selection.active.data\n",
    "sam.set_image(img)"
   ]
  },
  {
   "cell_type": "code",
   "execution_count": 10,
   "id": "39dc6acc",
   "metadata": {},
   "outputs": [
    {
     "data": {
      "text/plain": [
       "'Image [1]'"
      ]
     },
     "execution_count": 10,
     "metadata": {},
     "output_type": "execute_result"
    }
   ],
   "source": [
    "viewer.layers.selection.active.name"
   ]
  },
  {
   "cell_type": "code",
   "execution_count": 13,
   "id": "0c76d354",
   "metadata": {},
   "outputs": [],
   "source": [
    "cur_name = viewer.layers.selection.active.name\n",
    "cur_idx = -1\n",
    "for id, layer in enumerate(viewer.layers):\n",
    "    if layer.name == cur_name:\n",
    "        cur_idx = id\n",
    "        break"
   ]
  },
  {
   "cell_type": "code",
   "execution_count": 9,
   "id": "13176c31",
   "metadata": {},
   "outputs": [
    {
     "data": {
      "text/plain": [
       "<Shapes layer 'Box' at 0x22dfea59640>"
      ]
     },
     "execution_count": 9,
     "metadata": {},
     "output_type": "execute_result"
    }
   ],
   "source": [
    "dummy_shape = np.array([[0,0,0], [0,0,1], [0, 1, 1], [0,1,0]])\n",
    "viewer.add_shapes([dummy_shape], ndim=3, name='Box')"
   ]
  },
  {
   "cell_type": "code",
   "execution_count": 28,
   "id": "4f75ffeb",
   "metadata": {},
   "outputs": [],
   "source": [
    "fnames = glob.glob('U:/smc/public/SMC/sam2/plugin/data/*.tif')\n",
    "file_index = 0\n",
    "file_name = fnames[file_index]\n",
    "out_name = file_name.replace('.tif', '_labels.tiff')\n",
    "\n",
    "while os.path.exists(out_name):\n",
    "    file_index += 1\n",
    "    if file_index >= len(fnames):\n",
    "        break\n",
    "    file_name = fnames[file_index]\n",
    "    out_name = file_name.replace('.tif', '_labels.tiff')"
   ]
  },
  {
   "cell_type": "code",
   "execution_count": 30,
   "id": "7ad7577f",
   "metadata": {},
   "outputs": [],
   "source": [
    "def get_next_undone(file_index):\n",
    "    file_name = fnames[file_index]\n",
    "    out_name = file_name.replace('.tif', '_labels.tiff')\n",
    "\n",
    "    while os.path.exists(out_name):\n",
    "        file_index += 1\n",
    "        if file_index >= len(fnames):\n",
    "            break\n",
    "        file_name = fnames[file_index]\n",
    "        out_name = file_name.replace('.tif', '_labels.tiff')\n",
    "    return file_index"
   ]
  },
  {
   "cell_type": "code",
   "execution_count": 35,
   "id": "a751b23d",
   "metadata": {},
   "outputs": [],
   "source": [
    "fnames = glob.glob('S:/micro/pat/rf2602/051925_reimaged40X_YH2AX_8OHdG_Splotch_Tcof1_818240/Fused/*.tif')"
   ]
  },
  {
   "cell_type": "code",
   "execution_count": 36,
   "id": "ddedd449",
   "metadata": {},
   "outputs": [],
   "source": [
    "img = ski.io.imread(fnames[0])"
   ]
  },
  {
   "cell_type": "code",
   "execution_count": 37,
   "id": "7e08b18f",
   "metadata": {},
   "outputs": [
    {
     "data": {
      "text/plain": [
       "(41, 4283, 4279, 3)"
      ]
     },
     "execution_count": 37,
     "metadata": {},
     "output_type": "execute_result"
    }
   ],
   "source": [
    "img.shape"
   ]
  },
  {
   "cell_type": "code",
   "execution_count": null,
   "id": "39a1bdd2",
   "metadata": {},
   "outputs": [],
   "source": []
  },
  {
   "cell_type": "code",
   "execution_count": 29,
   "id": "98321a11",
   "metadata": {},
   "outputs": [
    {
     "data": {
      "text/plain": [
       "2"
      ]
     },
     "execution_count": 29,
     "metadata": {},
     "output_type": "execute_result"
    }
   ],
   "source": [
    "file_index"
   ]
  },
  {
   "cell_type": "code",
   "execution_count": 11,
   "id": "788df862",
   "metadata": {},
   "outputs": [
    {
     "name": "stderr",
     "output_type": "stream",
     "text": [
      "propagate in video: 100%|██████████| 48/48 [00:02<00:00, 16.22it/s]\n",
      "propagate in video: 100%|██████████| 65/65 [00:04<00:00, 16.04it/s]\n"
     ]
    },
    {
     "data": {
      "text/plain": [
       "<Labels layer 'Labels' at 0x22dfea583e0>"
      ]
     },
     "execution_count": 11,
     "metadata": {},
     "output_type": "execute_result"
    }
   ],
   "source": [
    "if viewer.layers['Box'] is not None:\n",
    "    shapes = viewer.layers['Box'].data\n",
    "#mask = sam.infer_from_box_single_object(shapes)\n",
    "mask = sam.infer_from_box(shapes[1:], do_reset=True)\n",
    "viewer.add_labels(mask.astype(int)*3)"
   ]
  },
  {
   "cell_type": "code",
   "execution_count": 34,
   "id": "252d03f4",
   "metadata": {},
   "outputs": [
    {
     "name": "stderr",
     "output_type": "stream",
     "text": [
      "D:\\segment-anything-2\\sam2\\sam2_video_predictor.py:873: UserWarning: cannot import name '_C' from 'sam2' (D:\\segment-anything-2\\sam2\\__init__.py)\n",
      "\n",
      "Skipping the post-processing step due to the error above. You can still use SAM 2 and it's OK to ignore the error above, although some post-processing functionality may be limited (which doesn't affect the results in most cases; see https://github.com/facebookresearch/segment-anything-2/blob/main/INSTALL.md).\n",
      "  pred_masks_gpu = fill_holes_in_mask_scores(\n",
      "propagate in video: 100%|██████████| 98/98 [00:04<00:00, 20.14it/s]\n",
      "propagate in video: 100%|██████████| 15/15 [00:00<00:00, 17.30it/s]\n"
     ]
    },
    {
     "data": {
      "text/plain": [
       "<Labels layer 'Labels [3]' at 0x1d81a7e1220>"
      ]
     },
     "execution_count": 34,
     "metadata": {},
     "output_type": "execute_result"
    }
   ],
   "source": [
    "if viewer.layers['Points'] is not None:\n",
    "    good_points = viewer.layers['Points'].data\n",
    "    bad_points = viewer.layers['Points [1]'].data\n",
    "mask = sam.infer_from_points(good_points, bad_points, do_reset=False)\n",
    "viewer.add_labels(mask.astype(int)*3)"
   ]
  },
  {
   "cell_type": "code",
   "execution_count": null,
   "id": "aa558600",
   "metadata": {},
   "outputs": [
    {
     "name": "stderr",
     "output_type": "stream",
     "text": [
      "D:\\segment-anything-2\\sam2\\sam2_video_predictor.py:873: UserWarning: cannot import name '_C' from 'sam2' (D:\\segment-anything-2\\sam2\\__init__.py)\n",
      "\n",
      "Skipping the post-processing step due to the error above. You can still use SAM 2 and it's OK to ignore the error above, although some post-processing functionality may be limited (which doesn't affect the results in most cases; see https://github.com/facebookresearch/segment-anything-2/blob/main/INSTALL.md).\n",
      "  pred_masks_gpu = fill_holes_in_mask_scores(\n",
      "propagate in video: 100%|██████████| 20/20 [00:00<00:00, 22.49it/s]\n",
      "propagate in video: 100%|██████████| 19/19 [00:00<00:00, 23.26it/s]\n"
     ]
    }
   ],
   "source": []
  },
  {
   "cell_type": "code",
   "execution_count": null,
   "id": "4f50ee49",
   "metadata": {},
   "outputs": [
    {
     "data": {
      "text/plain": [
       "<Labels layer 'Labels [3]' at 0x1c1d0b1e900>"
      ]
     },
     "execution_count": 38,
     "metadata": {},
     "output_type": "execute_result"
    }
   ],
   "source": []
  },
  {
   "cell_type": "code",
   "execution_count": null,
   "id": "cef4085c",
   "metadata": {},
   "outputs": [],
   "source": []
  }
 ],
 "metadata": {
  "kernelspec": {
   "display_name": "sam2",
   "language": "python",
   "name": "python3"
  },
  "language_info": {
   "codemirror_mode": {
    "name": "ipython",
    "version": 3
   },
   "file_extension": ".py",
   "mimetype": "text/x-python",
   "name": "python",
   "nbconvert_exporter": "python",
   "pygments_lexer": "ipython3",
   "version": "3.12.6"
  }
 },
 "nbformat": 4,
 "nbformat_minor": 5
}
